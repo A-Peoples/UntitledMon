{
  "nbformat": 4,
  "nbformat_minor": 0,
  "metadata": {
    "colab": {
      "provenance": [],
      "include_colab_link": true
    },
    "kernelspec": {
      "name": "python3",
      "display_name": "Python 3"
    },
    "language_info": {
      "name": "python"
    }
  },
  "cells": [
    {
      "cell_type": "markdown",
      "metadata": {
        "id": "view-in-github",
        "colab_type": "text"
      },
      "source": [
        "<a href=\"https://colab.research.google.com/github/A-Peoples/UntitledMon/blob/main/UntitledMon.ipynb\" target=\"_parent\"><img src=\"https://colab.research.google.com/assets/colab-badge.svg\" alt=\"Open In Colab\"/></a>"
      ]
    },
    {
      "cell_type": "code",
      "execution_count": null,
      "metadata": {
        "colab": {
          "base_uri": "https://localhost:8080/"
        },
        "id": "6R_tj0bnPYPm",
        "outputId": "042b2bc1-2364-45ef-f405-dfca8ca34e6e"
      },
      "outputs": [
        {
          "output_type": "stream",
          "name": "stdout",
          "text": [
            "You are challenged by Moemon Trainer Hank!\n",
            "Moemon Trainer Hank sent out Firefli!\n",
            "Enemy Firefli 180 HP\n",
            "You sent out Mushrine!\n"
          ]
        }
      ],
      "source": [
        "import random\n",
        "import sys\n",
        "\n",
        "# Moves\n",
        "m1 = (\"Snowball Strike\", 90, 1)\n",
        "m2 = (\"Vine Tornado\", 90, 2)\n",
        "m3 = (\"Blazeburst\", 90, 3)\n",
        "m4 = (\"Tackle\", 50, 4)\n",
        "random_values = (0, 1, 2, 3, 4, 5, 6, 7, 8, 9, 10, 20, 25)\n",
        "\n",
        "# Pokemon\n",
        "Snowballin = (120, 90, 50, 100, \"Snowballin\")\n",
        "Firefli = (80, 120, 50, 130, \"Firefli\")\n",
        "Mushrine = (70, 40, 50, 100, \"Mushrine\")\n",
        "SnowballinMoves = (m1, m2)\n",
        "FirefliMoves = (m3, m4)\n",
        "MushrineMoves = (m2, m4)\n",
        "\n",
        "# Trainer\n",
        "t1 = \"Moemon Trainer Hank\"\n",
        "\n",
        "# Trainer's Pokemon\n",
        "Hank = (Firefli, FirefliMoves)\n",
        "level = 50  # Set the level to an appropriate value\n",
        "Moe_HP = Hank[0][0] + level * 2\n",
        "\n",
        "# Your Pokemon\n",
        "Your = (Mushrine, MushrineMoves)\n",
        "\n",
        "# Calculate Your Pokemon's HP\n",
        "Your_HP = Your[0][0] + level * 2\n",
        "\n",
        "# Battle Start\n",
        "print(\"You are challenged by \" + t1 + \"!\")\n",
        "print(t1 + \" sent out \" + Hank[0][4] + \"!\")\n",
        "print(\"Enemy \" + Hank[0][4] + \" \" + str(Moe_HP) + \" HP\")\n",
        "print(\"You sent out \" + Your[0][4] + \"!\")\n",
        "\n",
        "while Moe_HP > 0 and Your_HP > 0:\n",
        "    # Choosing Moves\n",
        "    move = input(\"What will you do? (1=Snowball Strike, 2=Vine Tornado) \")\n",
        "\n",
        "    # Damage Equation\n",
        "    if move == \"1\":\n",
        "        chosen_move_player = Your[1][0]\n",
        "    elif move == \"2\":\n",
        "        chosen_move_player = Your[1][1]\n",
        "    else:\n",
        "        print(\"Invalid move. Please choose 1 or 2.\")\n",
        "        continue\n",
        "\n",
        "    # Update enemy's HP\n",
        "    damage = chosen_move_player[1] - Hank[0][2] + random.choice(random_values)\n",
        "    Moe_HP = max(0, Moe_HP - damage)\n",
        "    print(\"Your \" + Your[0][4] + \" used \" + str(chosen_move_player[0]) + \"!\")\n",
        "    print(\"Enemy \" + Hank[0][4] + \"'s HP: \" + str(Moe_HP))\n",
        "\n",
        "    # Check if enemy Pokemon is fainted\n",
        "    if Moe_HP <= 0:\n",
        "        print(\"Enemy \" + Hank[0][4] + \" fainted!\\nYou won the Battle!\\nDang it.\\nYou got 0 dollars\")\n",
        "        sys.exit()\n",
        "\n",
        "    # Enemy's Move (Assuming the enemy always uses move m1)\n",
        "    enemy_damage = m1[1] - Your[0][2] + random.choice(random_values)\n",
        "    Your_HP = max(0, Your_HP - enemy_damage)\n",
        "    print(\"Enemy \" + Hank[0][4] + \" used \" + str(m1[0]) + \"!\")\n",
        "    print(\"Your \" + Your[0][4] + \"'s HP: \" + str(Your_HP))\n",
        "\n",
        "    # Check if your Pokemon is fainted\n",
        "    if Your_HP <= 0:\n",
        "        print(\"Your \" + Your[0][4] + \" fainted!\\nYou lost the Battle!\\nGGS. Shake my hand\\nYou lost your life savings :(\")\n",
        "        sys.exit()\n"
      ]
    }
  ]
}